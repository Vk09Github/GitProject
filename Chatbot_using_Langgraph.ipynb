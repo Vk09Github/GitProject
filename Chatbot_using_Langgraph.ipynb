{
  "nbformat": 4,
  "nbformat_minor": 0,
  "metadata": {
    "colab": {
      "provenance": [],
      "authorship_tag": "ABX9TyMxpiYe1ae5hXA5dmbxYIrs",
      "include_colab_link": true
    },
    "kernelspec": {
      "name": "python3",
      "display_name": "Python 3"
    },
    "language_info": {
      "name": "python"
    }
  },
  "cells": [
    {
      "cell_type": "markdown",
      "metadata": {
        "id": "view-in-github",
        "colab_type": "text"
      },
      "source": [
        "<a href=\"https://colab.research.google.com/github/Vk09Github/GitProject/blob/main/Chatbot_using_Langgraph.ipynb\" target=\"_parent\"><img src=\"https://colab.research.google.com/assets/colab-badge.svg\" alt=\"Open In Colab\"/></a>"
      ]
    },
    {
      "cell_type": "code",
      "source": [
        "!pip install langgraph langsmith"
      ],
      "metadata": {
        "colab": {
          "base_uri": "https://localhost:8080/"
        },
        "collapsed": true,
        "id": "2FybxN0aVlIZ",
        "outputId": "ea5eafb4-536e-46c9-f5f4-24de00bf4acb"
      },
      "execution_count": 1,
      "outputs": [
        {
          "output_type": "stream",
          "name": "stdout",
          "text": [
            "Collecting langgraph\n",
            "  Downloading langgraph-0.4.2-py3-none-any.whl.metadata (7.9 kB)\n",
            "Requirement already satisfied: langsmith in /usr/local/lib/python3.11/dist-packages (0.3.39)\n",
            "Requirement already satisfied: langchain-core>=0.1 in /usr/local/lib/python3.11/dist-packages (from langgraph) (0.3.56)\n",
            "Collecting langgraph-checkpoint<3.0.0,>=2.0.10 (from langgraph)\n",
            "  Downloading langgraph_checkpoint-2.0.25-py3-none-any.whl.metadata (4.6 kB)\n",
            "Collecting langgraph-prebuilt>=0.1.8 (from langgraph)\n",
            "  Downloading langgraph_prebuilt-0.1.8-py3-none-any.whl.metadata (5.0 kB)\n",
            "Collecting langgraph-sdk>=0.1.42 (from langgraph)\n",
            "  Downloading langgraph_sdk-0.1.66-py3-none-any.whl.metadata (1.8 kB)\n",
            "Requirement already satisfied: pydantic>=2.7.4 in /usr/local/lib/python3.11/dist-packages (from langgraph) (2.11.4)\n",
            "Collecting xxhash<4.0.0,>=3.5.0 (from langgraph)\n",
            "  Downloading xxhash-3.5.0-cp311-cp311-manylinux_2_17_x86_64.manylinux2014_x86_64.whl.metadata (12 kB)\n",
            "Requirement already satisfied: httpx<1,>=0.23.0 in /usr/local/lib/python3.11/dist-packages (from langsmith) (0.28.1)\n",
            "Requirement already satisfied: orjson<4.0.0,>=3.9.14 in /usr/local/lib/python3.11/dist-packages (from langsmith) (3.10.18)\n",
            "Requirement already satisfied: packaging>=23.2 in /usr/local/lib/python3.11/dist-packages (from langsmith) (24.2)\n",
            "Requirement already satisfied: requests<3,>=2 in /usr/local/lib/python3.11/dist-packages (from langsmith) (2.32.3)\n",
            "Requirement already satisfied: requests-toolbelt<2.0.0,>=1.0.0 in /usr/local/lib/python3.11/dist-packages (from langsmith) (1.0.0)\n",
            "Requirement already satisfied: zstandard<0.24.0,>=0.23.0 in /usr/local/lib/python3.11/dist-packages (from langsmith) (0.23.0)\n",
            "Requirement already satisfied: anyio in /usr/local/lib/python3.11/dist-packages (from httpx<1,>=0.23.0->langsmith) (4.9.0)\n",
            "Requirement already satisfied: certifi in /usr/local/lib/python3.11/dist-packages (from httpx<1,>=0.23.0->langsmith) (2025.4.26)\n",
            "Requirement already satisfied: httpcore==1.* in /usr/local/lib/python3.11/dist-packages (from httpx<1,>=0.23.0->langsmith) (1.0.9)\n",
            "Requirement already satisfied: idna in /usr/local/lib/python3.11/dist-packages (from httpx<1,>=0.23.0->langsmith) (3.10)\n",
            "Requirement already satisfied: h11>=0.16 in /usr/local/lib/python3.11/dist-packages (from httpcore==1.*->httpx<1,>=0.23.0->langsmith) (0.16.0)\n",
            "Requirement already satisfied: tenacity!=8.4.0,<10.0.0,>=8.1.0 in /usr/local/lib/python3.11/dist-packages (from langchain-core>=0.1->langgraph) (9.1.2)\n",
            "Requirement already satisfied: jsonpatch<2.0,>=1.33 in /usr/local/lib/python3.11/dist-packages (from langchain-core>=0.1->langgraph) (1.33)\n",
            "Requirement already satisfied: PyYAML>=5.3 in /usr/local/lib/python3.11/dist-packages (from langchain-core>=0.1->langgraph) (6.0.2)\n",
            "Requirement already satisfied: typing-extensions>=4.7 in /usr/local/lib/python3.11/dist-packages (from langchain-core>=0.1->langgraph) (4.13.2)\n",
            "Collecting ormsgpack<2.0.0,>=1.8.0 (from langgraph-checkpoint<3.0.0,>=2.0.10->langgraph)\n",
            "  Downloading ormsgpack-1.9.1-cp311-cp311-manylinux_2_17_x86_64.manylinux2014_x86_64.whl.metadata (43 kB)\n",
            "\u001b[2K     \u001b[90m━━━━━━━━━━━━━━━━━━━━━━━━━━━━━━━━━━━━━━━━\u001b[0m \u001b[32m43.5/43.5 kB\u001b[0m \u001b[31m1.4 MB/s\u001b[0m eta \u001b[36m0:00:00\u001b[0m\n",
            "\u001b[?25hRequirement already satisfied: annotated-types>=0.6.0 in /usr/local/lib/python3.11/dist-packages (from pydantic>=2.7.4->langgraph) (0.7.0)\n",
            "Requirement already satisfied: pydantic-core==2.33.2 in /usr/local/lib/python3.11/dist-packages (from pydantic>=2.7.4->langgraph) (2.33.2)\n",
            "Requirement already satisfied: typing-inspection>=0.4.0 in /usr/local/lib/python3.11/dist-packages (from pydantic>=2.7.4->langgraph) (0.4.0)\n",
            "Requirement already satisfied: charset-normalizer<4,>=2 in /usr/local/lib/python3.11/dist-packages (from requests<3,>=2->langsmith) (3.4.1)\n",
            "Requirement already satisfied: urllib3<3,>=1.21.1 in /usr/local/lib/python3.11/dist-packages (from requests<3,>=2->langsmith) (2.4.0)\n",
            "Requirement already satisfied: jsonpointer>=1.9 in /usr/local/lib/python3.11/dist-packages (from jsonpatch<2.0,>=1.33->langchain-core>=0.1->langgraph) (3.0.0)\n",
            "Requirement already satisfied: sniffio>=1.1 in /usr/local/lib/python3.11/dist-packages (from anyio->httpx<1,>=0.23.0->langsmith) (1.3.1)\n",
            "Downloading langgraph-0.4.2-py3-none-any.whl (151 kB)\n",
            "\u001b[2K   \u001b[90m━━━━━━━━━━━━━━━━━━━━━━━━━━━━━━━━━━━━━━━━\u001b[0m \u001b[32m151.1/151.1 kB\u001b[0m \u001b[31m3.8 MB/s\u001b[0m eta \u001b[36m0:00:00\u001b[0m\n",
            "\u001b[?25hDownloading langgraph_checkpoint-2.0.25-py3-none-any.whl (42 kB)\n",
            "\u001b[2K   \u001b[90m━━━━━━━━━━━━━━━━━━━━━━━━━━━━━━━━━━━━━━━━\u001b[0m \u001b[32m42.3/42.3 kB\u001b[0m \u001b[31m2.5 MB/s\u001b[0m eta \u001b[36m0:00:00\u001b[0m\n",
            "\u001b[?25hDownloading langgraph_prebuilt-0.1.8-py3-none-any.whl (25 kB)\n",
            "Downloading langgraph_sdk-0.1.66-py3-none-any.whl (47 kB)\n",
            "\u001b[2K   \u001b[90m━━━━━━━━━━━━━━━━━━━━━━━━━━━━━━━━━━━━━━━━\u001b[0m \u001b[32m47.6/47.6 kB\u001b[0m \u001b[31m2.7 MB/s\u001b[0m eta \u001b[36m0:00:00\u001b[0m\n",
            "\u001b[?25hDownloading xxhash-3.5.0-cp311-cp311-manylinux_2_17_x86_64.manylinux2014_x86_64.whl (194 kB)\n",
            "\u001b[2K   \u001b[90m━━━━━━━━━━━━━━━━━━━━━━━━━━━━━━━━━━━━━━━━\u001b[0m \u001b[32m194.8/194.8 kB\u001b[0m \u001b[31m12.2 MB/s\u001b[0m eta \u001b[36m0:00:00\u001b[0m\n",
            "\u001b[?25hDownloading ormsgpack-1.9.1-cp311-cp311-manylinux_2_17_x86_64.manylinux2014_x86_64.whl (223 kB)\n",
            "\u001b[2K   \u001b[90m━━━━━━━━━━━━━━━━━━━━━━━━━━━━━━━━━━━━━━━━\u001b[0m \u001b[32m223.6/223.6 kB\u001b[0m \u001b[31m15.4 MB/s\u001b[0m eta \u001b[36m0:00:00\u001b[0m\n",
            "\u001b[?25hInstalling collected packages: xxhash, ormsgpack, langgraph-sdk, langgraph-checkpoint, langgraph-prebuilt, langgraph\n",
            "Successfully installed langgraph-0.4.2 langgraph-checkpoint-2.0.25 langgraph-prebuilt-0.1.8 langgraph-sdk-0.1.66 ormsgpack-1.9.1 xxhash-3.5.0\n"
          ]
        }
      ]
    },
    {
      "cell_type": "code",
      "source": [
        "!pip install langchain langchain_groq langchain_community"
      ],
      "metadata": {
        "colab": {
          "base_uri": "https://localhost:8080/"
        },
        "collapsed": true,
        "id": "HEXYMjiQVkQ1",
        "outputId": "17249faa-498e-4f2d-c942-63cec8d1d963"
      },
      "execution_count": 2,
      "outputs": [
        {
          "output_type": "stream",
          "name": "stdout",
          "text": [
            "Requirement already satisfied: langchain in /usr/local/lib/python3.11/dist-packages (0.3.24)\n",
            "Collecting langchain_groq\n",
            "  Downloading langchain_groq-0.3.2-py3-none-any.whl.metadata (2.6 kB)\n",
            "Collecting langchain_community\n",
            "  Downloading langchain_community-0.3.23-py3-none-any.whl.metadata (2.5 kB)\n",
            "Requirement already satisfied: langchain-core<1.0.0,>=0.3.55 in /usr/local/lib/python3.11/dist-packages (from langchain) (0.3.56)\n",
            "Requirement already satisfied: langchain-text-splitters<1.0.0,>=0.3.8 in /usr/local/lib/python3.11/dist-packages (from langchain) (0.3.8)\n",
            "Requirement already satisfied: langsmith<0.4,>=0.1.17 in /usr/local/lib/python3.11/dist-packages (from langchain) (0.3.39)\n",
            "Requirement already satisfied: pydantic<3.0.0,>=2.7.4 in /usr/local/lib/python3.11/dist-packages (from langchain) (2.11.4)\n",
            "Requirement already satisfied: SQLAlchemy<3,>=1.4 in /usr/local/lib/python3.11/dist-packages (from langchain) (2.0.40)\n",
            "Requirement already satisfied: requests<3,>=2 in /usr/local/lib/python3.11/dist-packages (from langchain) (2.32.3)\n",
            "Requirement already satisfied: PyYAML>=5.3 in /usr/local/lib/python3.11/dist-packages (from langchain) (6.0.2)\n",
            "Collecting groq<1,>=0.4.1 (from langchain_groq)\n",
            "  Downloading groq-0.24.0-py3-none-any.whl.metadata (15 kB)\n",
            "Requirement already satisfied: aiohttp<4.0.0,>=3.8.3 in /usr/local/lib/python3.11/dist-packages (from langchain_community) (3.11.15)\n",
            "Requirement already satisfied: tenacity!=8.4.0,<10,>=8.1.0 in /usr/local/lib/python3.11/dist-packages (from langchain_community) (9.1.2)\n",
            "Collecting dataclasses-json<0.7,>=0.5.7 (from langchain_community)\n",
            "  Downloading dataclasses_json-0.6.7-py3-none-any.whl.metadata (25 kB)\n",
            "Collecting pydantic-settings<3.0.0,>=2.4.0 (from langchain_community)\n",
            "  Downloading pydantic_settings-2.9.1-py3-none-any.whl.metadata (3.8 kB)\n",
            "Collecting httpx-sse<1.0.0,>=0.4.0 (from langchain_community)\n",
            "  Downloading httpx_sse-0.4.0-py3-none-any.whl.metadata (9.0 kB)\n",
            "Requirement already satisfied: numpy>=1.26.2 in /usr/local/lib/python3.11/dist-packages (from langchain_community) (2.0.2)\n",
            "Requirement already satisfied: aiohappyeyeballs>=2.3.0 in /usr/local/lib/python3.11/dist-packages (from aiohttp<4.0.0,>=3.8.3->langchain_community) (2.6.1)\n",
            "Requirement already satisfied: aiosignal>=1.1.2 in /usr/local/lib/python3.11/dist-packages (from aiohttp<4.0.0,>=3.8.3->langchain_community) (1.3.2)\n",
            "Requirement already satisfied: attrs>=17.3.0 in /usr/local/lib/python3.11/dist-packages (from aiohttp<4.0.0,>=3.8.3->langchain_community) (25.3.0)\n",
            "Requirement already satisfied: frozenlist>=1.1.1 in /usr/local/lib/python3.11/dist-packages (from aiohttp<4.0.0,>=3.8.3->langchain_community) (1.6.0)\n",
            "Requirement already satisfied: multidict<7.0,>=4.5 in /usr/local/lib/python3.11/dist-packages (from aiohttp<4.0.0,>=3.8.3->langchain_community) (6.4.3)\n",
            "Requirement already satisfied: propcache>=0.2.0 in /usr/local/lib/python3.11/dist-packages (from aiohttp<4.0.0,>=3.8.3->langchain_community) (0.3.1)\n",
            "Requirement already satisfied: yarl<2.0,>=1.17.0 in /usr/local/lib/python3.11/dist-packages (from aiohttp<4.0.0,>=3.8.3->langchain_community) (1.20.0)\n",
            "Collecting marshmallow<4.0.0,>=3.18.0 (from dataclasses-json<0.7,>=0.5.7->langchain_community)\n",
            "  Downloading marshmallow-3.26.1-py3-none-any.whl.metadata (7.3 kB)\n",
            "Collecting typing-inspect<1,>=0.4.0 (from dataclasses-json<0.7,>=0.5.7->langchain_community)\n",
            "  Downloading typing_inspect-0.9.0-py3-none-any.whl.metadata (1.5 kB)\n",
            "Requirement already satisfied: anyio<5,>=3.5.0 in /usr/local/lib/python3.11/dist-packages (from groq<1,>=0.4.1->langchain_groq) (4.9.0)\n",
            "Requirement already satisfied: distro<2,>=1.7.0 in /usr/local/lib/python3.11/dist-packages (from groq<1,>=0.4.1->langchain_groq) (1.9.0)\n",
            "Requirement already satisfied: httpx<1,>=0.23.0 in /usr/local/lib/python3.11/dist-packages (from groq<1,>=0.4.1->langchain_groq) (0.28.1)\n",
            "Requirement already satisfied: sniffio in /usr/local/lib/python3.11/dist-packages (from groq<1,>=0.4.1->langchain_groq) (1.3.1)\n",
            "Requirement already satisfied: typing-extensions<5,>=4.10 in /usr/local/lib/python3.11/dist-packages (from groq<1,>=0.4.1->langchain_groq) (4.13.2)\n",
            "Requirement already satisfied: jsonpatch<2.0,>=1.33 in /usr/local/lib/python3.11/dist-packages (from langchain-core<1.0.0,>=0.3.55->langchain) (1.33)\n",
            "Requirement already satisfied: packaging<25,>=23.2 in /usr/local/lib/python3.11/dist-packages (from langchain-core<1.0.0,>=0.3.55->langchain) (24.2)\n",
            "Requirement already satisfied: orjson<4.0.0,>=3.9.14 in /usr/local/lib/python3.11/dist-packages (from langsmith<0.4,>=0.1.17->langchain) (3.10.18)\n",
            "Requirement already satisfied: requests-toolbelt<2.0.0,>=1.0.0 in /usr/local/lib/python3.11/dist-packages (from langsmith<0.4,>=0.1.17->langchain) (1.0.0)\n",
            "Requirement already satisfied: zstandard<0.24.0,>=0.23.0 in /usr/local/lib/python3.11/dist-packages (from langsmith<0.4,>=0.1.17->langchain) (0.23.0)\n",
            "Requirement already satisfied: annotated-types>=0.6.0 in /usr/local/lib/python3.11/dist-packages (from pydantic<3.0.0,>=2.7.4->langchain) (0.7.0)\n",
            "Requirement already satisfied: pydantic-core==2.33.2 in /usr/local/lib/python3.11/dist-packages (from pydantic<3.0.0,>=2.7.4->langchain) (2.33.2)\n",
            "Requirement already satisfied: typing-inspection>=0.4.0 in /usr/local/lib/python3.11/dist-packages (from pydantic<3.0.0,>=2.7.4->langchain) (0.4.0)\n",
            "Collecting python-dotenv>=0.21.0 (from pydantic-settings<3.0.0,>=2.4.0->langchain_community)\n",
            "  Downloading python_dotenv-1.1.0-py3-none-any.whl.metadata (24 kB)\n",
            "Requirement already satisfied: charset-normalizer<4,>=2 in /usr/local/lib/python3.11/dist-packages (from requests<3,>=2->langchain) (3.4.1)\n",
            "Requirement already satisfied: idna<4,>=2.5 in /usr/local/lib/python3.11/dist-packages (from requests<3,>=2->langchain) (3.10)\n",
            "Requirement already satisfied: urllib3<3,>=1.21.1 in /usr/local/lib/python3.11/dist-packages (from requests<3,>=2->langchain) (2.4.0)\n",
            "Requirement already satisfied: certifi>=2017.4.17 in /usr/local/lib/python3.11/dist-packages (from requests<3,>=2->langchain) (2025.4.26)\n",
            "Requirement already satisfied: greenlet>=1 in /usr/local/lib/python3.11/dist-packages (from SQLAlchemy<3,>=1.4->langchain) (3.2.1)\n",
            "Requirement already satisfied: httpcore==1.* in /usr/local/lib/python3.11/dist-packages (from httpx<1,>=0.23.0->groq<1,>=0.4.1->langchain_groq) (1.0.9)\n",
            "Requirement already satisfied: h11>=0.16 in /usr/local/lib/python3.11/dist-packages (from httpcore==1.*->httpx<1,>=0.23.0->groq<1,>=0.4.1->langchain_groq) (0.16.0)\n",
            "Requirement already satisfied: jsonpointer>=1.9 in /usr/local/lib/python3.11/dist-packages (from jsonpatch<2.0,>=1.33->langchain-core<1.0.0,>=0.3.55->langchain) (3.0.0)\n",
            "Collecting mypy-extensions>=0.3.0 (from typing-inspect<1,>=0.4.0->dataclasses-json<0.7,>=0.5.7->langchain_community)\n",
            "  Downloading mypy_extensions-1.1.0-py3-none-any.whl.metadata (1.1 kB)\n",
            "Downloading langchain_groq-0.3.2-py3-none-any.whl (15 kB)\n",
            "Downloading langchain_community-0.3.23-py3-none-any.whl (2.5 MB)\n",
            "\u001b[2K   \u001b[90m━━━━━━━━━━━━━━━━━━━━━━━━━━━━━━━━━━━━━━━━\u001b[0m \u001b[32m2.5/2.5 MB\u001b[0m \u001b[31m29.4 MB/s\u001b[0m eta \u001b[36m0:00:00\u001b[0m\n",
            "\u001b[?25hDownloading dataclasses_json-0.6.7-py3-none-any.whl (28 kB)\n",
            "Downloading groq-0.24.0-py3-none-any.whl (127 kB)\n",
            "\u001b[2K   \u001b[90m━━━━━━━━━━━━━━━━━━━━━━━━━━━━━━━━━━━━━━━━\u001b[0m \u001b[32m127.5/127.5 kB\u001b[0m \u001b[31m8.6 MB/s\u001b[0m eta \u001b[36m0:00:00\u001b[0m\n",
            "\u001b[?25hDownloading httpx_sse-0.4.0-py3-none-any.whl (7.8 kB)\n",
            "Downloading pydantic_settings-2.9.1-py3-none-any.whl (44 kB)\n",
            "\u001b[2K   \u001b[90m━━━━━━━━━━━━━━━━━━━━━━━━━━━━━━━━━━━━━━━━\u001b[0m \u001b[32m44.4/44.4 kB\u001b[0m \u001b[31m2.5 MB/s\u001b[0m eta \u001b[36m0:00:00\u001b[0m\n",
            "\u001b[?25hDownloading marshmallow-3.26.1-py3-none-any.whl (50 kB)\n",
            "\u001b[2K   \u001b[90m━━━━━━━━━━━━━━━━━━━━━━━━━━━━━━━━━━━━━━━━\u001b[0m \u001b[32m50.9/50.9 kB\u001b[0m \u001b[31m3.2 MB/s\u001b[0m eta \u001b[36m0:00:00\u001b[0m\n",
            "\u001b[?25hDownloading python_dotenv-1.1.0-py3-none-any.whl (20 kB)\n",
            "Downloading typing_inspect-0.9.0-py3-none-any.whl (8.8 kB)\n",
            "Downloading mypy_extensions-1.1.0-py3-none-any.whl (5.0 kB)\n",
            "Installing collected packages: python-dotenv, mypy-extensions, marshmallow, httpx-sse, typing-inspect, pydantic-settings, groq, dataclasses-json, langchain_groq, langchain_community\n",
            "Successfully installed dataclasses-json-0.6.7 groq-0.24.0 httpx-sse-0.4.0 langchain_community-0.3.23 langchain_groq-0.3.2 marshmallow-3.26.1 mypy-extensions-1.1.0 pydantic-settings-2.9.1 python-dotenv-1.1.0 typing-inspect-0.9.0\n"
          ]
        }
      ]
    },
    {
      "cell_type": "code",
      "source": [
        "from google.colab import userdata\n",
        "groq_api_key=userdata.get('groq_api_key')\n",
        "langsmith=userdata.get('LANGSMITH_API_KEY')\n",
        "print(langsmith)"
      ],
      "metadata": {
        "id": "gADn_xuUqJEi",
        "colab": {
          "base_uri": "https://localhost:8080/"
        },
        "outputId": "9237b424-66f9-4cbd-87c9-7f035f059ca6"
      },
      "execution_count": 5,
      "outputs": [
        {
          "output_type": "stream",
          "name": "stdout",
          "text": [
            "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\n"
          ]
        }
      ]
    },
    {
      "cell_type": "code",
      "source": [
        "import os\n",
        "os.environ['LANGSMITH_API_KEY']=langsmith\n",
        "os.environ['LANGCHAIN_TRACING_V2']=\"true\"\n",
        "os.environ['LANGCHAIN_PROJECT']=\"Livelanggraph\"\n",
        "\n"
      ],
      "metadata": {
        "id": "bkNaNvCBXl0o"
      },
      "execution_count": 7,
      "outputs": []
    },
    {
      "cell_type": "code",
      "source": [
        "from langchain_groq import ChatGroq\n"
      ],
      "metadata": {
        "id": "-BAjVlbRcg5t"
      },
      "execution_count": 10,
      "outputs": []
    },
    {
      "cell_type": "code",
      "source": [],
      "metadata": {
        "id": "es0C2As1dZ4F"
      },
      "execution_count": null,
      "outputs": []
    },
    {
      "cell_type": "code",
      "source": [
        "llm=ChatGroq(groq_api_key=groq_api_key,model_name=\"gemma2-9b-it\")\n",
        "llm"
      ],
      "metadata": {
        "colab": {
          "base_uri": "https://localhost:8080/"
        },
        "id": "u4eX1C7Tc7p0",
        "outputId": "34ced50b-47c9-491e-b012-14c7eda8a521"
      },
      "execution_count": 11,
      "outputs": [
        {
          "output_type": "execute_result",
          "data": {
            "text/plain": [
              "ChatGroq(client=<groq.resources.chat.completions.Completions object at 0x7de198ef95d0>, async_client=<groq.resources.chat.completions.AsyncCompletions object at 0x7de198ee0a10>, model_name='gemma2-9b-it', model_kwargs={}, groq_api_key=SecretStr('**********'))"
            ]
          },
          "metadata": {},
          "execution_count": 11
        }
      ]
    },
    {
      "cell_type": "code",
      "source": [],
      "metadata": {
        "id": "mPQbf1K-dnSl"
      },
      "execution_count": 12,
      "outputs": []
    },
    {
      "cell_type": "markdown",
      "source": [
        "##Start Building Chatbot using Langgraph"
      ],
      "metadata": {
        "id": "3Ae3qPJfd9bG"
      }
    },
    {
      "cell_type": "code",
      "source": [
        "from typing import Annotated\n",
        "from typing_extensions import TypedDict\n",
        "from langgraph.graph import StateGraph,START,END\n",
        "from langgraph.graph import add_messages"
      ],
      "metadata": {
        "id": "OzYvmhmKdz5P"
      },
      "execution_count": 13,
      "outputs": []
    },
    {
      "cell_type": "code",
      "source": [
        "class State(TypedDict):\n",
        "  #Messages that have the type \"list\". The \"add_messages\" function\n",
        "  #In the annotation defines how this state key should be updated\n",
        "  #(in this case, it appends messages to the list, rather than overwriting them)\n",
        "  messages:Annotated[list,add_messages]\n",
        "\n",
        "graph_builder=StateGraph(State)"
      ],
      "metadata": {
        "id": "GGnR6F14e5eZ"
      },
      "execution_count": 14,
      "outputs": []
    },
    {
      "cell_type": "code",
      "source": [
        "graph_builder"
      ],
      "metadata": {
        "colab": {
          "base_uri": "https://localhost:8080/"
        },
        "id": "ti_G4-16e3xe",
        "outputId": "35094920-13f1-4b77-847a-2bd1f6ecfef2"
      },
      "execution_count": 15,
      "outputs": [
        {
          "output_type": "execute_result",
          "data": {
            "text/plain": [
              "<langgraph.graph.state.StateGraph at 0x7de199595750>"
            ]
          },
          "metadata": {},
          "execution_count": 15
        }
      ]
    },
    {
      "cell_type": "code",
      "source": [
        "def chatbot(state:State):\n",
        "  return{\"messages\": llm.invoke(state['messages'])}\n"
      ],
      "metadata": {
        "id": "iZNcFJhigBiD"
      },
      "execution_count": 16,
      "outputs": []
    },
    {
      "cell_type": "code",
      "source": [
        "graph_builder.add_node(\"chatbot\",chatbot)"
      ],
      "metadata": {
        "colab": {
          "base_uri": "https://localhost:8080/"
        },
        "id": "x0OqXr1WgD3t",
        "outputId": "5bee6233-caa9-4789-f43a-32c0fde094fa"
      },
      "execution_count": 17,
      "outputs": [
        {
          "output_type": "execute_result",
          "data": {
            "text/plain": [
              "<langgraph.graph.state.StateGraph at 0x7de199595750>"
            ]
          },
          "metadata": {},
          "execution_count": 17
        }
      ]
    },
    {
      "cell_type": "code",
      "source": [
        "graph_builder"
      ],
      "metadata": {
        "colab": {
          "base_uri": "https://localhost:8080/"
        },
        "id": "A7R9k5nug64F",
        "outputId": "8ef288f8-de50-4c42-f631-d43f826eb158"
      },
      "execution_count": 18,
      "outputs": [
        {
          "output_type": "execute_result",
          "data": {
            "text/plain": [
              "<langgraph.graph.state.StateGraph at 0x7de199595750>"
            ]
          },
          "metadata": {},
          "execution_count": 18
        }
      ]
    },
    {
      "cell_type": "code",
      "source": [
        "graph_builder.add_edge(START,\"chatbot\")\n",
        "graph_builder.add_edge(\"chatbot\",END)"
      ],
      "metadata": {
        "colab": {
          "base_uri": "https://localhost:8080/"
        },
        "id": "Orw-bKXcgDzt",
        "outputId": "63c27c39-f9f6-458a-8032-19c362cd4cd8"
      },
      "execution_count": 20,
      "outputs": [
        {
          "output_type": "execute_result",
          "data": {
            "text/plain": [
              "<langgraph.graph.state.StateGraph at 0x7de199595750>"
            ]
          },
          "metadata": {},
          "execution_count": 20
        }
      ]
    },
    {
      "cell_type": "code",
      "source": [
        "graph=graph_builder.compile()"
      ],
      "metadata": {
        "id": "Bq_2NrvkgDwR"
      },
      "execution_count": 21,
      "outputs": []
    },
    {
      "cell_type": "code",
      "source": [
        "from IPython.display import Image, display\n",
        "try:\n",
        "  display(Image(graph.get_graph().draw_mermaid_png()))\n",
        "except Exception:\n",
        "  pass"
      ],
      "metadata": {
        "colab": {
          "base_uri": "https://localhost:8080/",
          "height": 251
        },
        "id": "0YXTVKn5gDsk",
        "outputId": "16d5ff6f-733c-48bd-946b-3d849ea41d62"
      },
      "execution_count": 22,
      "outputs": [
        {
          "output_type": "display_data",
          "data": {
            "image/png": "[encoded data removed]",
            "text/plain": [
              "<IPython.core.display.Image object>"
            ]
          },
          "metadata": {}
        }
      ]
    },
    {
      "cell_type": "code",
      "source": [
        "while True:\n",
        "  user_input=input(\"User: \")\n",
        "  if user_input.lower() in [\"quit\",\"q\"]:\n",
        "    print(\"Good Bye!!!\")\n",
        "    break\n",
        "  for event in graph.stream({'messages':(\"user\",user_input)}):\n",
        "    print(event.values())\n",
        "    for value in event.values():\n",
        "      print(value['messages'])\n",
        "      print(\"Assistant:\",value[\"messages\"].content)\n",
        ""
      ],
      "metadata": {
        "colab": {
          "base_uri": "https://localhost:8080/"
        },
        "id": "9HcIOPSNgDpO",
        "outputId": "bfe49e9b-021b-4927-d670-6182632c8d8b"
      },
      "execution_count": 23,
      "outputs": [
        {
          "output_type": "stream",
          "name": "stdout",
          "text": [
            "User: hello\n",
            "dict_values([{'messages': AIMessage(content='Hello! 👋  How can I help you today? 😊\\n', additional_kwargs={}, response_metadata={'token_usage': {'completion_tokens': 15, 'prompt_tokens': 11, 'total_tokens': 26, 'completion_time': 0.027272727, 'prompt_time': 0.001911847, 'queue_time': 0.035041711999999996, 'total_time': 0.029184574}, 'model_name': 'gemma2-9b-it', 'system_fingerprint': 'fp_10c08bf97d', 'finish_reason': 'stop', 'logprobs': None}, id='run-b5979b6a-d0ef-41cc-b23a-72ea1f1ef94d-0', usage_metadata={'input_tokens': 11, 'output_tokens': 15, 'total_tokens': 26})}])\n",
            "content='Hello! 👋  How can I help you today? 😊\\n' additional_kwargs={} response_metadata={'token_usage': {'completion_tokens': 15, 'prompt_tokens': 11, 'total_tokens': 26, 'completion_time': 0.027272727, 'prompt_time': 0.001911847, 'queue_time': 0.035041711999999996, 'total_time': 0.029184574}, 'model_name': 'gemma2-9b-it', 'system_fingerprint': 'fp_10c08bf97d', 'finish_reason': 'stop', 'logprobs': None} id='run-b5979b6a-d0ef-41cc-b23a-72ea1f1ef94d-0' usage_metadata={'input_tokens': 11, 'output_tokens': 15, 'total_tokens': 26}\n",
            "Assistant: Hello! 👋  How can I help you today? 😊\n",
            "\n",
            "User: what is generative ai\n",
            "dict_values([{'messages': AIMessage(content=\"Generative AI is a fascinating branch of artificial intelligence that focuses on creating new content. \\n\\nThink of it like this: instead of simply analyzing existing data, generative AI learns the patterns and structures within that data and then uses that knowledge to produce something original.\\n\\n**Here's a breakdown:**\\n\\n**What it does:**\\n\\n* **Generates text:** Write stories, poems, articles, dialogue, and even code.\\n* **Creates images:** Produce realistic photographs, artwork, illustrations, and designs.\\n* **Composes music:** Generate melodies, harmonies, and entire musical pieces in various styles.\\n* **Synthesizes audio:** Create voiceovers, sound effects, and realistic speech from text.\\n* **Designs products:** Assist in designing 3D models, fashion items, and other physical objects.\\n\\n**How it works:**\\n\\nGenerative AI models are typically trained on massive datasets of existing content. \\n\\nThey learn the underlying rules and relationships within that data, allowing them to generate new content that adheres to those rules while still being novel. \\n\\nPopular techniques include:\\n\\n* **Generative Adversarial Networks (GANs):** Two AI models compete against each other, one generating content and the other evaluating its authenticity. This leads to a continuous improvement in the quality of generated content.\\n* **Transformer Networks:** These models, like GPT-3, excel at understanding and generating human-like text.\\n\\n**Examples:**\\n\\n* **ChatGPT:** A text-based chatbot that can engage in natural conversations.\\n* **DALL-E 2:** An AI system that generates realistic images from text descriptions.\\n* **Jukebox:** An open-source AI model that can compose music in various styles.\\n\\n**Potential applications:**\\n\\n* **Creative industries:** Assist writers, artists, musicians, and designers.\\n* **Education:** Generate personalized learning materials and interactive exercises.\\n* **Marketing and advertising:** Create engaging content and targeted campaigns.\\n* **Healthcare:** Assist in drug discovery, medical imaging analysis, and personalized treatment plans.\\n\\nGenerative AI is a rapidly evolving field with the potential to revolutionize many aspects of our lives.\\n\\n\\nLet me know if you have any other questions!\\n\", additional_kwargs={}, response_metadata={'token_usage': {'completion_tokens': 455, 'prompt_tokens': 13, 'total_tokens': 468, 'completion_time': 0.827272727, 'prompt_time': 0.001948797, 'queue_time': 0.016623352, 'total_time': 0.829221524}, 'model_name': 'gemma2-9b-it', 'system_fingerprint': 'fp_10c08bf97d', 'finish_reason': 'stop', 'logprobs': None}, id='run-7e44012a-23d2-4450-be49-34027272a435-0', usage_metadata={'input_tokens': 13, 'output_tokens': 455, 'total_tokens': 468})}])\n",
            "content=\"Generative AI is a fascinating branch of artificial intelligence that focuses on creating new content. \\n\\nThink of it like this: instead of simply analyzing existing data, generative AI learns the patterns and structures within that data and then uses that knowledge to produce something original.\\n\\n**Here's a breakdown:**\\n\\n**What it does:**\\n\\n* **Generates text:** Write stories, poems, articles, dialogue, and even code.\\n* **Creates images:** Produce realistic photographs, artwork, illustrations, and designs.\\n* **Composes music:** Generate melodies, harmonies, and entire musical pieces in various styles.\\n* **Synthesizes audio:** Create voiceovers, sound effects, and realistic speech from text.\\n* **Designs products:** Assist in designing 3D models, fashion items, and other physical objects.\\n\\n**How it works:**\\n\\nGenerative AI models are typically trained on massive datasets of existing content. \\n\\nThey learn the underlying rules and relationships within that data, allowing them to generate new content that adheres to those rules while still being novel. \\n\\nPopular techniques include:\\n\\n* **Generative Adversarial Networks (GANs):** Two AI models compete against each other, one generating content and the other evaluating its authenticity. This leads to a continuous improvement in the quality of generated content.\\n* **Transformer Networks:** These models, like GPT-3, excel at understanding and generating human-like text.\\n\\n**Examples:**\\n\\n* **ChatGPT:** A text-based chatbot that can engage in natural conversations.\\n* **DALL-E 2:** An AI system that generates realistic images from text descriptions.\\n* **Jukebox:** An open-source AI model that can compose music in various styles.\\n\\n**Potential applications:**\\n\\n* **Creative industries:** Assist writers, artists, musicians, and designers.\\n* **Education:** Generate personalized learning materials and interactive exercises.\\n* **Marketing and advertising:** Create engaging content and targeted campaigns.\\n* **Healthcare:** Assist in drug discovery, medical imaging analysis, and personalized treatment plans.\\n\\nGenerative AI is a rapidly evolving field with the potential to revolutionize many aspects of our lives.\\n\\n\\nLet me know if you have any other questions!\\n\" additional_kwargs={} response_metadata={'token_usage': {'completion_tokens': 455, 'prompt_tokens': 13, 'total_tokens': 468, 'completion_time': 0.827272727, 'prompt_time': 0.001948797, 'queue_time': 0.016623352, 'total_time': 0.829221524}, 'model_name': 'gemma2-9b-it', 'system_fingerprint': 'fp_10c08bf97d', 'finish_reason': 'stop', 'logprobs': None} id='run-7e44012a-23d2-4450-be49-34027272a435-0' usage_metadata={'input_tokens': 13, 'output_tokens': 455, 'total_tokens': 468}\n",
            "Assistant: Generative AI is a fascinating branch of artificial intelligence that focuses on creating new content. \n",
            "\n",
            "Think of it like this: instead of simply analyzing existing data, generative AI learns the patterns and structures within that data and then uses that knowledge to produce something original.\n",
            "\n",
            "**Here's a breakdown:**\n",
            "\n",
            "**What it does:**\n",
            "\n",
            "* **Generates text:** Write stories, poems, articles, dialogue, and even code.\n",
            "* **Creates images:** Produce realistic photographs, artwork, illustrations, and designs.\n",
            "* **Composes music:** Generate melodies, harmonies, and entire musical pieces in various styles.\n",
            "* **Synthesizes audio:** Create voiceovers, sound effects, and realistic speech from text.\n",
            "* **Designs products:** Assist in designing 3D models, fashion items, and other physical objects.\n",
            "\n",
            "**How it works:**\n",
            "\n",
            "Generative AI models are typically trained on massive datasets of existing content. \n",
            "\n",
            "They learn the underlying rules and relationships within that data, allowing them to generate new content that adheres to those rules while still being novel. \n",
            "\n",
            "Popular techniques include:\n",
            "\n",
            "* **Generative Adversarial Networks (GANs):** Two AI models compete against each other, one generating content and the other evaluating its authenticity. This leads to a continuous improvement in the quality of generated content.\n",
            "* **Transformer Networks:** These models, like GPT-3, excel at understanding and generating human-like text.\n",
            "\n",
            "**Examples:**\n",
            "\n",
            "* **ChatGPT:** A text-based chatbot that can engage in natural conversations.\n",
            "* **DALL-E 2:** An AI system that generates realistic images from text descriptions.\n",
            "* **Jukebox:** An open-source AI model that can compose music in various styles.\n",
            "\n",
            "**Potential applications:**\n",
            "\n",
            "* **Creative industries:** Assist writers, artists, musicians, and designers.\n",
            "* **Education:** Generate personalized learning materials and interactive exercises.\n",
            "* **Marketing and advertising:** Create engaging content and targeted campaigns.\n",
            "* **Healthcare:** Assist in drug discovery, medical imaging analysis, and personalized treatment plans.\n",
            "\n",
            "Generative AI is a rapidly evolving field with the potential to revolutionize many aspects of our lives.\n",
            "\n",
            "\n",
            "Let me know if you have any other questions!\n",
            "\n",
            "User: when did india win their first cricket world cup\n",
            "dict_values([{'messages': AIMessage(content=\"India won their first Cricket World Cup in **1983**.  \\n\\nThey defeated the heavily favored West Indies in the final at Lord's Cricket Ground in London.  \\n\", additional_kwargs={}, response_metadata={'token_usage': {'completion_tokens': 39, 'prompt_tokens': 18, 'total_tokens': 57, 'completion_time': 0.070909091, 'prompt_time': 0.001962227, 'queue_time': 0.019140423, 'total_time': 0.072871318}, 'model_name': 'gemma2-9b-it', 'system_fingerprint': 'fp_10c08bf97d', 'finish_reason': 'stop', 'logprobs': None}, id='run-278c67bb-2bb0-484c-ba22-6457be08a1ea-0', usage_metadata={'input_tokens': 18, 'output_tokens': 39, 'total_tokens': 57})}])\n",
            "content=\"India won their first Cricket World Cup in **1983**.  \\n\\nThey defeated the heavily favored West Indies in the final at Lord's Cricket Ground in London.  \\n\" additional_kwargs={} response_metadata={'token_usage': {'completion_tokens': 39, 'prompt_tokens': 18, 'total_tokens': 57, 'completion_time': 0.070909091, 'prompt_time': 0.001962227, 'queue_time': 0.019140423, 'total_time': 0.072871318}, 'model_name': 'gemma2-9b-it', 'system_fingerprint': 'fp_10c08bf97d', 'finish_reason': 'stop', 'logprobs': None} id='run-278c67bb-2bb0-484c-ba22-6457be08a1ea-0' usage_metadata={'input_tokens': 18, 'output_tokens': 39, 'total_tokens': 57}\n",
            "Assistant: India won their first Cricket World Cup in **1983**.  \n",
            "\n",
            "They defeated the heavily favored West Indies in the final at Lord's Cricket Ground in London.  \n",
            "\n",
            "User: give me todays geopolitc news\n",
            "dict_values([{'messages': AIMessage(content=\"I do not have access to real-time information, including breaking news. My knowledge is only up to a certain point in time.\\n\\nTo get today's geopolitical news, I recommend checking reputable news sources such as:\\n\\n* **Websites:** BBC News, CNN, Reuters, The Guardian, Al Jazeera\\n* **News aggregators:** Google News, Apple News\\n* **Social media:** Twitter (follow verified news organizations)\\n\\nPlease be sure to consult multiple sources to get a well-rounded perspective on current events.\\n\\n\", additional_kwargs={}, response_metadata={'token_usage': {'completion_tokens': 110, 'prompt_tokens': 17, 'total_tokens': 127, 'completion_time': 0.201063617, 'prompt_time': 0.001915867, 'queue_time': 0.090477996, 'total_time': 0.202979484}, 'model_name': 'gemma2-9b-it', 'system_fingerprint': 'fp_10c08bf97d', 'finish_reason': 'stop', 'logprobs': None}, id='run-dde2c75f-fc75-4d73-9efc-65db07d0a6fe-0', usage_metadata={'input_tokens': 17, 'output_tokens': 110, 'total_tokens': 127})}])\n",
            "content=\"I do not have access to real-time information, including breaking news. My knowledge is only up to a certain point in time.\\n\\nTo get today's geopolitical news, I recommend checking reputable news sources such as:\\n\\n* **Websites:** BBC News, CNN, Reuters, The Guardian, Al Jazeera\\n* **News aggregators:** Google News, Apple News\\n* **Social media:** Twitter (follow verified news organizations)\\n\\nPlease be sure to consult multiple sources to get a well-rounded perspective on current events.\\n\\n\" additional_kwargs={} response_metadata={'token_usage': {'completion_tokens': 110, 'prompt_tokens': 17, 'total_tokens': 127, 'completion_time': 0.201063617, 'prompt_time': 0.001915867, 'queue_time': 0.090477996, 'total_time': 0.202979484}, 'model_name': 'gemma2-9b-it', 'system_fingerprint': 'fp_10c08bf97d', 'finish_reason': 'stop', 'logprobs': None} id='run-dde2c75f-fc75-4d73-9efc-65db07d0a6fe-0' usage_metadata={'input_tokens': 17, 'output_tokens': 110, 'total_tokens': 127}\n",
            "Assistant: I do not have access to real-time information, including breaking news. My knowledge is only up to a certain point in time.\n",
            "\n",
            "To get today's geopolitical news, I recommend checking reputable news sources such as:\n",
            "\n",
            "* **Websites:** BBC News, CNN, Reuters, The Guardian, Al Jazeera\n",
            "* **News aggregators:** Google News, Apple News\n",
            "* **Social media:** Twitter (follow verified news organizations)\n",
            "\n",
            "Please be sure to consult multiple sources to get a well-rounded perspective on current events.\n",
            "\n",
            "\n",
            "User: what is data science\n",
            "dict_values([{'messages': AIMessage(content='Data science is a multidisciplinary field that uses scientific methods, processes, algorithms, and systems to **extract knowledge and insights from structured and unstructured data**. \\n\\nThink of it as detective work for information. Data scientists sift through massive amounts of data, looking for patterns, trends, and anomalies that can help us understand the world better and make better decisions.\\n\\nHere are some key aspects of data science:\\n\\n**1. Data Collection & Cleaning:** Gathering data from various sources and preparing it for analysis by handling missing values, inconsistencies, and errors.\\n\\n**2. Exploratory Data Analysis:** Using statistical techniques and visualization tools to identify patterns, trends, and relationships within the data.\\n\\n**3. Feature Engineering:** Selecting, transforming, and creating relevant features from the data to improve the performance of machine learning models.\\n\\n**4. Modeling & Machine Learning:** Applying statistical and machine learning algorithms to build predictive models, classify data, and uncover hidden insights.\\n\\n**5. Evaluation & Deployment:** Assessing the performance of models, deploying them into real-world applications, and monitoring their effectiveness.\\n\\n**Data science is used in a wide range of applications, including:**\\n\\n* **Business:** Customer segmentation, fraud detection, personalized recommendations, marketing optimization\\n* **Healthcare:** Disease prediction, drug discovery, patient diagnosis and treatment\\n* **Finance:** Risk management, credit scoring, algorithmic trading\\n* **Technology:** Image recognition, natural language processing, speech synthesis\\n* **Science:** Climate modeling, genomics research, astrophysics\\n\\n**Skills required for data science:**\\n\\n* Programming languages (Python, R, SQL)\\n* Statistical concepts and methods\\n* Machine learning algorithms\\n* Data visualization tools\\n* Domain knowledge (depending on the field of application)\\n\\nData science is a rapidly evolving field with immense potential to transform industries and solve complex problems.\\n', additional_kwargs={}, response_metadata={'token_usage': {'completion_tokens': 374, 'prompt_tokens': 13, 'total_tokens': 387, 'completion_time': 0.68, 'prompt_time': 0.001955896, 'queue_time': 0.11639262, 'total_time': 0.681955896}, 'model_name': 'gemma2-9b-it', 'system_fingerprint': 'fp_10c08bf97d', 'finish_reason': 'stop', 'logprobs': None}, id='run-2741936b-133e-4867-b254-84c2c6ce278d-0', usage_metadata={'input_tokens': 13, 'output_tokens': 374, 'total_tokens': 387})}])\n",
            "content='Data science is a multidisciplinary field that uses scientific methods, processes, algorithms, and systems to **extract knowledge and insights from structured and unstructured data**. \\n\\nThink of it as detective work for information. Data scientists sift through massive amounts of data, looking for patterns, trends, and anomalies that can help us understand the world better and make better decisions.\\n\\nHere are some key aspects of data science:\\n\\n**1. Data Collection & Cleaning:** Gathering data from various sources and preparing it for analysis by handling missing values, inconsistencies, and errors.\\n\\n**2. Exploratory Data Analysis:** Using statistical techniques and visualization tools to identify patterns, trends, and relationships within the data.\\n\\n**3. Feature Engineering:** Selecting, transforming, and creating relevant features from the data to improve the performance of machine learning models.\\n\\n**4. Modeling & Machine Learning:** Applying statistical and machine learning algorithms to build predictive models, classify data, and uncover hidden insights.\\n\\n**5. Evaluation & Deployment:** Assessing the performance of models, deploying them into real-world applications, and monitoring their effectiveness.\\n\\n**Data science is used in a wide range of applications, including:**\\n\\n* **Business:** Customer segmentation, fraud detection, personalized recommendations, marketing optimization\\n* **Healthcare:** Disease prediction, drug discovery, patient diagnosis and treatment\\n* **Finance:** Risk management, credit scoring, algorithmic trading\\n* **Technology:** Image recognition, natural language processing, speech synthesis\\n* **Science:** Climate modeling, genomics research, astrophysics\\n\\n**Skills required for data science:**\\n\\n* Programming languages (Python, R, SQL)\\n* Statistical concepts and methods\\n* Machine learning algorithms\\n* Data visualization tools\\n* Domain knowledge (depending on the field of application)\\n\\nData science is a rapidly evolving field with immense potential to transform industries and solve complex problems.\\n' additional_kwargs={} response_metadata={'token_usage': {'completion_tokens': 374, 'prompt_tokens': 13, 'total_tokens': 387, 'completion_time': 0.68, 'prompt_time': 0.001955896, 'queue_time': 0.11639262, 'total_time': 0.681955896}, 'model_name': 'gemma2-9b-it', 'system_fingerprint': 'fp_10c08bf97d', 'finish_reason': 'stop', 'logprobs': None} id='run-2741936b-133e-4867-b254-84c2c6ce278d-0' usage_metadata={'input_tokens': 13, 'output_tokens': 374, 'total_tokens': 387}\n",
            "Assistant: Data science is a multidisciplinary field that uses scientific methods, processes, algorithms, and systems to **extract knowledge and insights from structured and unstructured data**. \n",
            "\n",
            "Think of it as detective work for information. Data scientists sift through massive amounts of data, looking for patterns, trends, and anomalies that can help us understand the world better and make better decisions.\n",
            "\n",
            "Here are some key aspects of data science:\n",
            "\n",
            "**1. Data Collection & Cleaning:** Gathering data from various sources and preparing it for analysis by handling missing values, inconsistencies, and errors.\n",
            "\n",
            "**2. Exploratory Data Analysis:** Using statistical techniques and visualization tools to identify patterns, trends, and relationships within the data.\n",
            "\n",
            "**3. Feature Engineering:** Selecting, transforming, and creating relevant features from the data to improve the performance of machine learning models.\n",
            "\n",
            "**4. Modeling & Machine Learning:** Applying statistical and machine learning algorithms to build predictive models, classify data, and uncover hidden insights.\n",
            "\n",
            "**5. Evaluation & Deployment:** Assessing the performance of models, deploying them into real-world applications, and monitoring their effectiveness.\n",
            "\n",
            "**Data science is used in a wide range of applications, including:**\n",
            "\n",
            "* **Business:** Customer segmentation, fraud detection, personalized recommendations, marketing optimization\n",
            "* **Healthcare:** Disease prediction, drug discovery, patient diagnosis and treatment\n",
            "* **Finance:** Risk management, credit scoring, algorithmic trading\n",
            "* **Technology:** Image recognition, natural language processing, speech synthesis\n",
            "* **Science:** Climate modeling, genomics research, astrophysics\n",
            "\n",
            "**Skills required for data science:**\n",
            "\n",
            "* Programming languages (Python, R, SQL)\n",
            "* Statistical concepts and methods\n",
            "* Machine learning algorithms\n",
            "* Data visualization tools\n",
            "* Domain knowledge (depending on the field of application)\n",
            "\n",
            "Data science is a rapidly evolving field with immense potential to transform industries and solve complex problems.\n",
            "\n",
            "User: q\n",
            "Good Bye!!!\n"
          ]
        }
      ]
    },
    {
      "cell_type": "code",
      "source": [],
      "metadata": {
        "id": "j_s9CmrkgDhz"
      },
      "execution_count": null,
      "outputs": []
    },
    {
      "cell_type": "code",
      "source": [],
      "metadata": {
        "id": "_2o5xZa1gDba"
      },
      "execution_count": null,
      "outputs": []
    }
  ]
}